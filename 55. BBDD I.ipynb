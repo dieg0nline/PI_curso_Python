{
 "cells": [
  {
   "cell_type": "markdown",
   "metadata": {},
   "source": [
    "## [55. BBDD I](https://youtu.be/ZJuVQ9jUg-A)\n",
    "\n",
    "### Trabajando con SQLite\n",
    "[Documentación](https://codigoxules.org/primeros-pasos-con-sqlite-con-ejemplos-sencillos-guia-sqlite-1/)"
   ]
  },
  {
   "cell_type": "code",
   "execution_count": 4,
   "metadata": {},
   "outputs": [],
   "source": [
    "import sqlite3\n",
    "\n",
    "miConexion = sqlite3.connect(\"Recursos/PrimeraBase.sqlite\")\n",
    "miCursor = miConexion.cursor()\n",
    "\n",
    "miCursor.execute(\"CREATE TABLE PRODUCTOS (NOMBRE_ARTICULO VARCHAR(50), PRECIO INTEGER, SECCION VARCHAR(20))\")\n",
    "\n",
    "\n",
    "miConexion.close()\n",
    "\n",
    "# continuar la clase => https://youtu.be/ZJuVQ9jUg-A?t=619"
   ]
  },
  {
   "cell_type": "code",
   "execution_count": 6,
   "metadata": {},
   "outputs": [],
   "source": [
    "import sqlite3 as sq\n",
    "\n",
    "miConexion = sq.connect(\"Recursos/PrimeraBase.sqlite\")\n",
    "miCursor = miConexion.cursor()\n",
    "\n",
    "miCursor.execute(\"INSERT INTO PRODUCTOS VALUES('BALÓN', 15, 'DEPORTES')\")\n",
    "miConexion.commit() # cada vez que hacemos un cambio o una insercion en una tabla hay que comirmarlo usando el comando commit en la conexión\n",
    "\n",
    "\n",
    "miConexion.close()"
   ]
  }
 ],
 "metadata": {
  "kernelspec": {
   "display_name": "Python 3.10.6 64-bit",
   "language": "python",
   "name": "python3"
  },
  "language_info": {
   "codemirror_mode": {
    "name": "ipython",
    "version": 3
   },
   "file_extension": ".py",
   "mimetype": "text/x-python",
   "name": "python",
   "nbconvert_exporter": "python",
   "pygments_lexer": "ipython3",
   "version": "3.10.6"
  },
  "orig_nbformat": 4,
  "vscode": {
   "interpreter": {
    "hash": "916dbcbb3f70747c44a77c7bcd40155683ae19c65e1c03b4aa3499c5328201f1"
   }
  }
 },
 "nbformat": 4,
 "nbformat_minor": 2
}
