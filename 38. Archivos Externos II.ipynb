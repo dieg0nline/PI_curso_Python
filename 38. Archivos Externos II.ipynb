{
 "cells": [
  {
   "cell_type": "markdown",
   "metadata": {},
   "source": [
    "# [38. Archivos Externos II](https://youtu.be/0dEYVSRYl_s)\n",
    "### La instrucción seek()\n",
    "Manejar un puntero de texto dentro de un fichero"
   ]
  },
  {
   "cell_type": "code",
   "execution_count": 4,
   "metadata": {},
   "outputs": [
    {
     "name": "stdout",
     "output_type": "stream",
     "text": [
      "Aprendiendo a trabajar con Python\n",
      "Trabajando con el módulo 'io' para manejar archivos\n",
      "Fin del texto de prueba\n",
      "\n",
      "En una segunda instancia volvemos a abrir el archivo para añadir nuevo texto al ya existente\n"
     ]
    }
   ],
   "source": [
    "from io import open\n",
    "\n",
    "archivo_texto = open(\"Recursos/archivo.txt\", \"r\")\n",
    "print(archivo_texto.read())"
   ]
  },
  {
   "cell_type": "markdown",
   "metadata": {},
   "source": [
    "Cuando abrimos un archivo el 'puntero' se encuentra al principio del mismo. Si embargo, al terminar de leerlo, este se situa al final del mismo.\n",
    "En el código anterior, al pasar la orden *archivo_texto.read()* el puntero se pasa al final al terminar de leer, por lo que si repitiesemos la orden \n",
    "~~~ py\n",
    "print(archivo.texto.read())\n",
    "~~~\n",
    "no se repetiría el texto, puesto que tras la primera el puntero se situa al final y la segunda ya no tiene nada más que imprimir"
   ]
  },
  {
   "cell_type": "code",
   "execution_count": 5,
   "metadata": {},
   "outputs": [
    {
     "name": "stdout",
     "output_type": "stream",
     "text": [
      "Aprendiendo a trabajar con Python\n",
      "Trabajando con el módulo 'io' para manejar archivos\n",
      "Fin del texto de prueba\n",
      "\n",
      "En una segunda instancia volvemos a abrir el archivo para añadir nuevo texto al ya existente\n",
      "\n"
     ]
    }
   ],
   "source": [
    "from io import open\n",
    "\n",
    "archivo_texto = open(\"Recursos/archivo.txt\", \"r\")\n",
    "print(archivo_texto.read())\n",
    "print(archivo_texto.read())"
   ]
  },
  {
   "cell_type": "markdown",
   "metadata": {},
   "source": [
    "> Usaremos el método **seek** para volver el puntero al inicio después de su lectura y que, de este modo, al llegar al segundo **print** este saque por consola desde el principio del archivo"
   ]
  },
  {
   "cell_type": "code",
   "execution_count": 3,
   "metadata": {},
   "outputs": [
    {
     "name": "stdout",
     "output_type": "stream",
     "text": [
      "Aprendiendo a trabajar con Python\n",
      "Trabajando con el módulo 'io' para manejar archivos\n",
      "Fin del texto de prueba\n",
      "\n",
      "En una segunda instancia volvemos a abrir el archivo para añadir nuevo texto al ya existente\n",
      "--------------\n",
      "Aprendiendo a trabajar con Python\n",
      "Trabajando con el módulo 'io' para manejar archivos\n",
      "Fin del texto de prueba\n",
      "\n",
      "En una segunda instancia volvemos a abrir el archivo para añadir nuevo texto al ya existente\n"
     ]
    }
   ],
   "source": [
    "from io import open\n",
    "\n",
    "archivo_texto = open(\"Recursos/archivo.txt\", \"r\")\n",
    "print(archivo_texto.read())\n",
    "\n",
    "print(\"--------------\") # añadimos un separador para facilitar la lectura del código\n",
    "\n",
    "archivo_texto.seek(0)\n",
    "\n",
    "print(archivo_texto.read())"
   ]
  },
  {
   "cell_type": "markdown",
   "metadata": {},
   "source": [
    "> También podemos modificar el puntor con el método **read**, pero a diferencia de **seek** que nos indica desde donde comencar, con **read** indicamos hasta qué posición del puntero leer"
   ]
  },
  {
   "cell_type": "code",
   "execution_count": 6,
   "metadata": {},
   "outputs": [
    {
     "name": "stdout",
     "output_type": "stream",
     "text": [
      "Aprendiendo a trabajar\n"
     ]
    }
   ],
   "source": [
    "from io import open\n",
    "\n",
    "archivo_texto = open(\"Recursos/archivo.txt\", \"r\")\n",
    "print(archivo_texto.read(22)) # Indicamos a read que unicamente lea hasta la posición 22 del puntero"
   ]
  },
  {
   "cell_type": "code",
   "execution_count": 29,
   "metadata": {},
   "outputs": [
    {
     "name": "stdout",
     "output_type": "stream",
     "text": [
      "de prueba\n",
      "\n",
      "En una segunda instancia volvemos a abrir el archivo para añadir nuevo texto al ya existente\n"
     ]
    }
   ],
   "source": [
    "# como parámetro a 'seek', en vez de pasarle un número, le pasamos el valor de 'len', que cuenta el número de caracteres de un texto, y que al dividirlo por 2 nos dará la mitad de caracteres, por lo que situará el cursor a mitad del texto\n",
    "archivo_texto.seek(len(archivo_texto.read())/2)\n",
    "print(archivo_texto.read())"
   ]
  },
  {
   "cell_type": "code",
   "execution_count": 27,
   "metadata": {},
   "outputs": [
    {
     "name": "stdout",
     "output_type": "stream",
     "text": [
      "Fin del texto de prueba\n",
      "\n"
     ]
    }
   ],
   "source": [
    "from io import open\n",
    "\n",
    "archivo_texto = open(\"Recursos/archivo.txt\", \"r\")\n",
    "\n",
    "lineas = archivo_texto.readlines()\n",
    "print(lineas[2])"
   ]
  },
  {
   "cell_type": "markdown",
   "metadata": {},
   "source": [
    "> Vamos a abrir el archivo en modo lectura/escritura, y lo cargaremos con 'readlines' creando una lista. Posteriormente seleccionaremos una línea en la que introduciremos un nuevo texto.\n",
    "Guardaremos el archivo con los cambios, imprimiremos por consola y lo cerraremos. "
   ]
  },
  {
   "cell_type": "code",
   "execution_count": null,
   "metadata": {},
   "outputs": [
    {
     "name": "stdout",
     "output_type": "stream",
     "text": [
      "Nuevo inicio del texto\n",
      "con Python\n",
      "Trabajando con el módulo 'io' para manejar archivos\n",
      "Fin del texto de prueba. end\n",
      "Esta línea de texto se introduce posteriormente. Versión 3 \n",
      "En una segunda instancia volvemos a abrir el archivo para añadir nuevo texto al ya existente\n"
     ]
    }
   ],
   "source": [
    "from io import open\n",
    "\n",
    "archivo_texto = open(\"Recursos/archivo.txt\", \"r+\") # abrimos lectura y escritura\n",
    "\n",
    "lista_texto = archivo_texto.readlines() # creamos una variable con la lista de las líneas del archivo\n",
    "\n",
    "lista_texto[4] = \"Esta línea de texto se introduce posteriormente. Versión 3 \\n\" # guardamos un nuevo texto en la línea 4\n",
    "\n",
    "archivo_texto.seek(0) # colocamos el cursor al principio del texto\n",
    "\n",
    "archivo_texto.writelines(lista_texto) # escribimos en el archivo el contenido de la lista de líneas contenida en la variable\n",
    "\n",
    "archivo_texto.seek(0) # volvemos a colocar al principio del archivo el puntero\n",
    "\n",
    "print(archivo_texto.read()) # imprimios por consola el contenido del archivo\n",
    "\n",
    "archivo_texto.close() # cerramos archivo\n"
   ]
  }
 ],
 "metadata": {
  "kernelspec": {
   "display_name": "Python 3.10.6 64-bit",
   "language": "python",
   "name": "python3"
  },
  "language_info": {
   "codemirror_mode": {
    "name": "ipython",
    "version": 3
   },
   "file_extension": ".py",
   "mimetype": "text/x-python",
   "name": "python",
   "nbconvert_exporter": "python",
   "pygments_lexer": "ipython3",
   "version": "3.10.6"
  },
  "orig_nbformat": 4,
  "vscode": {
   "interpreter": {
    "hash": "916dbcbb3f70747c44a77c7bcd40155683ae19c65e1c03b4aa3499c5328201f1"
   }
  }
 },
 "nbformat": 4,
 "nbformat_minor": 2
}
