{
 "cells": [
  {
   "cell_type": "markdown",
   "metadata": {},
   "source": [
    "## [44. Interfaces gráficas III](https://youtu.be/Nf4-gvf-tNg)\n",
    "\n",
    "+ label. Para mostrar textos estáticos o imágenes\n",
    "~~~ py\n",
    "variableLabel = label(contenerdor, opciones)\n",
    "~~~\n"
   ]
  },
  {
   "cell_type": "code",
   "execution_count": 1,
   "metadata": {},
   "outputs": [],
   "source": [
    "from tkinter import *\n",
    "\n",
    "root = Tk()\n",
    "miFrame = Frame(root, width=500, height=400)\n",
    "miFrame.pack()\n",
    "\n",
    "miLabel = Label(miFrame, text=\"Hola Mundo\", fg=\"red\", font=(\"hack\",12)).place(x=100, y=200)\n",
    "\n",
    "root.mainloop()"
   ]
  },
  {
   "cell_type": "code",
   "execution_count": 4,
   "metadata": {},
   "outputs": [],
   "source": [
    "from tkinter import *\n",
    "\n",
    "root = Tk()\n",
    "miFrame = Frame(root, width=500, height=500)\n",
    "miFrame.pack()\n",
    "\n",
    "miImagen = PhotoImage(file=\"Recursos/imagen.png\")\n",
    "Label(miFrame, image=miImagen).place(x=200, y=200)\n",
    "\n",
    "root.mainloop()"
   ]
  }
 ],
 "metadata": {
  "kernelspec": {
   "display_name": "Python 3.10.6 64-bit",
   "language": "python",
   "name": "python3"
  },
  "language_info": {
   "codemirror_mode": {
    "name": "ipython",
    "version": 3
   },
   "file_extension": ".py",
   "mimetype": "text/x-python",
   "name": "python",
   "nbconvert_exporter": "python",
   "pygments_lexer": "ipython3",
   "version": "3.10.6"
  },
  "orig_nbformat": 4,
  "vscode": {
   "interpreter": {
    "hash": "916dbcbb3f70747c44a77c7bcd40155683ae19c65e1c03b4aa3499c5328201f1"
   }
  }
 },
 "nbformat": 4,
 "nbformat_minor": 2
}
