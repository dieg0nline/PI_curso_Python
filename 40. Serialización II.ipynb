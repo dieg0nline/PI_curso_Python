{
 "cells": [
  {
   "cell_type": "markdown",
   "metadata": {},
   "source": [
    "# [40. Serialización II](https://youtu.be/CkfDnMC79b4)\n",
    "\n"
   ]
  },
  {
   "cell_type": "code",
   "execution_count": null,
   "metadata": {},
   "outputs": [],
   "source": [
    "import pickle\n",
    "\n",
    "class Vehiculos():\n",
    "    def __init__(self, marca, modelo):\n",
    "        self.marca = marca\n",
    "        self.modelo = modelo\n",
    "        self.enmarcha = False\n",
    "        self.acelera = False\n",
    "        self.frena = False\n",
    "\n",
    "    def arrancar(self):\n",
    "        self.enmarcha = True\n",
    "\n",
    "    def acelearar(self):\n",
    "        self.acelera = True\n",
    "\n",
    "    def frenar(self):\n",
    "        self.frena = True\n",
    "\n",
    "    def estado(self):\n",
    "        print (\"Marca: \", self.marca, \"\\nModelo: \", self.modelo, \"\\nEn Marcha: \", self.enmarcha, \"\\nAcelerando: \", self.acelera, \"\\nFrenando: \", self.frena )\n",
    "\n",
    "coche1 = Vehiculos(\"Mazda\", \"MX5\")\n",
    "coche2 = Vehiculos(\"Renout\", \"clio\")\n",
    "coche3 = Vehiculos(\"Seat\", \"leon\")\n",
    "\n",
    "coches = [coche1, coche2, coche3]\n",
    "\n",
    "fichero = open(\"Recursos/losCoches\", \"wb\")\n",
    "\n",
    "pickle.dump(coches, fichero)\n",
    "\n",
    "fichero.close()\n",
    "\n",
    "del (fichero)\n"
   ]
  },
  {
   "cell_type": "code",
   "execution_count": null,
   "metadata": {},
   "outputs": [],
   "source": [
    "ficheroApertura = open(\"Recursos/losCoches\", \"rb\") # abrimos el fichero previamente guardado\n",
    "\n",
    "misCoches = pickle.load(ficheroApertura) # cargamos en la variable misCoches la información del fichero abierto\n",
    "\n",
    "ficheroApertura.close() # una vez almacenada en variable la información del fichero procedemos a cerrarlo\n",
    "\n",
    "for i in misCoches:\n",
    "    print(i.estado())\n",
    "    print(\"-----------\")\n",
    "\n",
    "# esta operación no se puede realizar en un archivo independiente, pues no tiene definida la clase Vehiculos ni sus metodos correspondientes\n"
   ]
  }
 ],
 "metadata": {
  "kernelspec": {
   "display_name": "Python 3.10.6 64-bit",
   "language": "python",
   "name": "python3"
  },
  "language_info": {
   "codemirror_mode": {
    "name": "ipython",
    "version": 3
   },
   "file_extension": ".py",
   "mimetype": "text/x-python",
   "name": "python",
   "nbconvert_exporter": "python",
   "pygments_lexer": "ipython3",
   "version": "3.10.6"
  },
  "orig_nbformat": 4,
  "vscode": {
   "interpreter": {
    "hash": "916dbcbb3f70747c44a77c7bcd40155683ae19c65e1c03b4aa3499c5328201f1"
   }
  }
 },
 "nbformat": 4,
 "nbformat_minor": 2
}
