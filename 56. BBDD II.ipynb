{
 "cells": [
  {
   "cell_type": "markdown",
   "metadata": {},
   "source": [
    "## [56. BBDD II](https://youtu.be/eM0MkDc34qo)\n",
    "\n",
    "Usando listas y tuplas para manejar la información de la BBDD"
   ]
  },
  {
   "cell_type": "code",
   "execution_count": 1,
   "metadata": {},
   "outputs": [],
   "source": [
    "# Introducimos varios artículos en nuestra base mendiante listas y tuplas\n",
    "\n",
    "import sqlite3 as sq\n",
    "\n",
    "miConexion = sq.connect(\"Recursos/PrimeraBase.sqlite\")\n",
    "miCursor = miConexion.cursor()\n",
    "\n",
    "# creamos una lista dentro de la cual introduciremos 3 tuplas con artículos\n",
    "variosProductos = [\n",
    "    (\"Camiseta\", 10, \"Deportes\"),\n",
    "    (\"Jarrón\", 90, \"Cerámica\"),\n",
    "    (\"Camión\", 20, \"Juguetería\")\n",
    "]\n",
    "\n",
    "miCursor.executemany(\"INSERT INTO PRODUCTOS VALUES(?,?,?)\", variosProductos) # ejecutamos una consulta preparada con parámetros\n",
    "\n",
    "\n",
    "miConexion.commit()\n",
    "miConexion.close()"
   ]
  },
  {
   "cell_type": "code",
   "execution_count": 15,
   "metadata": {},
   "outputs": [
    {
     "name": "stdout",
     "output_type": "stream",
     "text": [
      "Artículo: BALÓN - Precio: 15 €\n",
      "Artículo: Camiseta - Precio: 10 €\n",
      "Artículo: Jarrón - Precio: 90 €\n",
      "Artículo: Camión - Precio: 20 €\n"
     ]
    }
   ],
   "source": [
    "# Acceder a la imformación almacenada en la base de datos\n",
    "\n",
    "import sqlite3 as sq\n",
    "\n",
    "miConexion = sq.connect(\"Recursos/PrimeraBase.sqlite\")\n",
    "miCursor = miConexion.cursor()\n",
    "\n",
    "miCursor.execute(\"SELECT * FROM PRODUCTOS\") # Llamamos a la información mediante el cursos\n",
    "\n",
    "variosProductos = miCursor.fetchall() # Usamos una lista para almacenar el lote de registros recuperados de la BBDD\n",
    "\n",
    "# print(variosProductos)\n",
    "\n",
    "for i in variosProductos:\n",
    "    print(\"Artículo:\", i[0], \"- Precio:\", i[1],\"€\")\n",
    "\n",
    "miConexion.commit()\n",
    "miConexion.close()"
   ]
  }
 ],
 "metadata": {
  "kernelspec": {
   "display_name": "Python 3.10.6 64-bit",
   "language": "python",
   "name": "python3"
  },
  "language_info": {
   "codemirror_mode": {
    "name": "ipython",
    "version": 3
   },
   "file_extension": ".py",
   "mimetype": "text/x-python",
   "name": "python",
   "nbconvert_exporter": "python",
   "pygments_lexer": "ipython3",
   "version": "3.10.6"
  },
  "orig_nbformat": 4,
  "vscode": {
   "interpreter": {
    "hash": "916dbcbb3f70747c44a77c7bcd40155683ae19c65e1c03b4aa3499c5328201f1"
   }
  }
 },
 "nbformat": 4,
 "nbformat_minor": 2
}
