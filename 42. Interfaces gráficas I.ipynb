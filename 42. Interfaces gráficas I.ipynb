{
 "cells": [
  {
   "cell_type": "markdown",
   "metadata": {},
   "source": [
    "## [42. Interfaces Gráficas I](https://youtu.be/hTUJC8HsC2I)\n",
    "\n",
    "Liberías\n",
    "+ Tkinter _instalada por defecto con Python_. [Documentación](https://docs.python.org/es/3/library/tkinter.html)\n",
    "  + sudo apt install python3-tk\n",
    "+ WxPython\n",
    "+ PyQT\n",
    "+ PyGTK"
   ]
  },
  {
   "cell_type": "code",
   "execution_count": 38,
   "metadata": {},
   "outputs": [],
   "source": [
    "from tkinter import *\n",
    "from tkinter import ttk\n",
    "\n",
    "raiz = Tk()\n",
    "raiz.title(\"Primer programa\")\n",
    "raiz.resizable(1,0) # para impedir que se redimensiones la ventana. Espera parámetros booleanos, el primero ancho el segundo alto\n",
    "\n",
    "# raiz.iconbitmap(\"icono.ico\")\n",
    "\n",
    "raiz.geometry(\"650x350\") # tamaño de la ventan ancho x alto\n",
    "\n",
    "raiz.config(bg=\"blue\")\n",
    "\n",
    "frm = ttk.Frame(raiz, padding=20)\n",
    "frm.grid()\n",
    "ttk.Label(frm, text=\"Hola Mundo\").grid(column=0, row=0)\n",
    "ttk.Button(frm, text=\"Quit\", command=raiz.destroy).grid(column=1, row=0)\n",
    "\n",
    "raiz.mainloop() # el método mainloop provoca una ejecución en bucle constante de la ventana creada en espera de captar eventos"
   ]
  }
 ],
 "metadata": {
  "kernelspec": {
   "display_name": "Python 3.10.6 64-bit",
   "language": "python",
   "name": "python3"
  },
  "language_info": {
   "codemirror_mode": {
    "name": "ipython",
    "version": 3
   },
   "file_extension": ".py",
   "mimetype": "text/x-python",
   "name": "python",
   "nbconvert_exporter": "python",
   "pygments_lexer": "ipython3",
   "version": "3.10.6"
  },
  "orig_nbformat": 4,
  "vscode": {
   "interpreter": {
    "hash": "916dbcbb3f70747c44a77c7bcd40155683ae19c65e1c03b4aa3499c5328201f1"
   }
  }
 },
 "nbformat": 4,
 "nbformat_minor": 2
}
