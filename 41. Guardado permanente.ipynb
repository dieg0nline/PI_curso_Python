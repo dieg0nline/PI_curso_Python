{
 "cells": [
  {
   "cell_type": "markdown",
   "metadata": {},
   "source": [
    "## [41. Guardado permanente](https://youtu.be/J3qvf1fTCsU)"
   ]
  },
  {
   "cell_type": "code",
   "execution_count": 20,
   "metadata": {},
   "outputs": [
    {
     "name": "stdout",
     "output_type": "stream",
     "text": [
      "Se cargaron 1 personas del fichero externo\n",
      "Se ha creado una persona nueva con el nombre de Diego\n",
      "Se ha creado una persona nueva con el nombre de Susana\n",
      "La información del fichero externo es la siguiente:\n",
      "Mitu ; Perrete ; 8\n",
      "Diego ; Masculino ; 53\n",
      "Susana ; Femenino ; 42\n"
     ]
    }
   ],
   "source": [
    "import pickle\n",
    "\n",
    "class Persona:\n",
    "    def __init__(self, nombre, genero, edad):\n",
    "        self.nombre = nombre\n",
    "        self.genero = genero\n",
    "        self.edad = edad\n",
    "        print (\"Se ha creado una persona nueva con el nombre de\", self.nombre)\n",
    "\n",
    "    def __str__(self):\n",
    "        return \"{} ; {} ; {}\".format(self.nombre, self.genero, self.edad) # INVESTIGAR metodo de cadena \"{} {} {}\"\n",
    "\n",
    "class ListaPersonas:\n",
    "    personas = []\n",
    "\n",
    "    def __init__(self):\n",
    "        listaDePersonas = open(\"Recursos/ficheroExterno\", \"ab+\")\n",
    "        listaDePersonas.seek(0)\n",
    "\n",
    "        try:\n",
    "            self.personas = pickle.load(listaDePersonas)\n",
    "            print(\"Se cargaron {} personas del fichero externo\".format(len(self.personas)))\n",
    "        except:\n",
    "            print(\"El fichero está vacío\")\n",
    "        finally:\n",
    "            listaDePersonas.close()\n",
    "            del(listaDePersonas)\n",
    "\n",
    "    def agregarPersonas(self, p):\n",
    "        self.personas.append(p)\n",
    "        self.guardarPersonasEnFicheroExterno()\n",
    "\n",
    "    def mostrarPersonas(self):\n",
    "        for i in self.personas:\n",
    "            print(i)\n",
    "\n",
    "    def guardarPersonasEnFicheroExterno(self):\n",
    "        listaDePersonas = open(\"Recursos/ficheroExterno\", \"wb\")\n",
    "        pickle.dump(self.personas, listaDePersonas)\n",
    "        listaDePersonas.close()\n",
    "        del(listaDePersonas)\n",
    "\n",
    "    def mostrarInfoFicheroExterno(self):\n",
    "        print(\"La información del fichero externo es la siguiente:\")\n",
    "        for i in self.personas:\n",
    "            print(i)\n",
    "\n",
    "miLista = ListaPersonas()\n",
    "\n",
    "p = Persona(\"Diego\", \"Masculino\", 53)\n",
    "miLista.agregarPersonas(p)\n",
    "\n",
    "p = Persona(\"Susana\", \"Femenino\", 42)\n",
    "miLista.agregarPersonas(p)\n",
    "\n",
    "\n",
    "\n",
    "\n",
    "miLista.mostrarInfoFicheroExterno()\n",
    "\n",
    "# continuar la clase: https://youtu.be/J3qvf1fTCsU?t=1259\n",
    "\n",
    "# miLista.mostrarPersonas()\n",
    "\n",
    "\n",
    "# print(p)"
   ]
  },
  {
   "cell_type": "markdown",
   "metadata": {},
   "source": [
    "#### Sobre el método de cadena:\n",
    "\n",
    "Por ejemplo: en el código de esta clase se tienen tres variables (self.nombre, self.genero, self.edad) las cuales serán retornadas en formato str, por ello se usa format. Los marcadores van entre comillas porque se supone que lo que ira ahí será texto, entonces, al usar los tres marcadores y darle como argumento a format (self.nombre, self.genero, self.edad) nos estaría indicando que en el primer marcador va el nombre, en el segundo el genero y en tercero la edad. La cantidad de marcadores debe corresponder con la cantidad de argumentos. Un ejemplo sencillo sería:\n",
    "\n",
    "print('Hola, mi nombre es {}. Soy de {}, estado{}.'.format('Pedro', 'Canada', 'Antimano'))\n",
    "\n",
    "resultado: Hola, mi nombre es Pedro. Soy de Canada, estado Antimano."
   ]
  }
 ],
 "metadata": {
  "kernelspec": {
   "display_name": "Python 3.10.6 64-bit",
   "language": "python",
   "name": "python3"
  },
  "language_info": {
   "codemirror_mode": {
    "name": "ipython",
    "version": 3
   },
   "file_extension": ".py",
   "mimetype": "text/x-python",
   "name": "python",
   "nbconvert_exporter": "python",
   "pygments_lexer": "ipython3",
   "version": "3.10.6"
  },
  "orig_nbformat": 4,
  "vscode": {
   "interpreter": {
    "hash": "916dbcbb3f70747c44a77c7bcd40155683ae19c65e1c03b4aa3499c5328201f1"
   }
  }
 },
 "nbformat": 4,
 "nbformat_minor": 2
}
