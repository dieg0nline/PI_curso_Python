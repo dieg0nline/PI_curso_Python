{
 "cells": [
  {
   "cell_type": "markdown",
   "metadata": {},
   "source": [
    "## [58. BBDD IV](https://youtu.be/m_FzVf9JTV8)\n",
    "+ Cláusula UNIQUE\n",
    "+ Operaciones CRUD\n",
    "  + Create\n",
    "  + Read\n",
    "  + Update\n",
    "  + Delete"
   ]
  },
  {
   "cell_type": "code",
   "execution_count": null,
   "metadata": {},
   "outputs": [],
   "source": [
    "# CREATE\n",
    "\n",
    "import sqlite3 as sq\n",
    "\n",
    "miConexion = sq.connect(\"Recursos/GestionProductos2.sqlite\")\n",
    "miCursor = miConexion.cursor()\n",
    "\n",
    "try:\n",
    "    # usamos la cláusula UNIQUE en NOMBRE_ARTICULO para que no permita crear duplicados\n",
    "    miCursor.execute('''\n",
    "        CREATE TABLE PRODUCTOS (\n",
    "        ID INTEGER PRIMARY KEY AUTOINCREMENT,\n",
    "        NOMBRE_ARTICULO VARCHAR(50) UNIQUE,\n",
    "        PRECIO INTEGER,\n",
    "        SECCION VARCHAR(20))\n",
    "    ''') \n",
    "except sq.OperationalError:\n",
    "    print(\"la base ya estaba creada\")\n",
    "\n",
    "productos = [\n",
    "    (\"castillo\", 20, \"jugetería\"),\n",
    "    (\"camisa\", 15, \"confección\"),\n",
    "    (\"tornillos\", 25, \"ferretería\"),\n",
    "    (\"tazas\", 45, \"cerámica\")\n",
    "]\n",
    "\n",
    "miCursor.executemany(\"INSERT INTO PRODUCTOS VALUES (NULL,?,?,?)\", productos) \n",
    "\n",
    "\n",
    "\n",
    "miConexion.commit()\n",
    "miConexion.close()"
   ]
  },
  {
   "cell_type": "code",
   "execution_count": 8,
   "metadata": {},
   "outputs": [
    {
     "name": "stdout",
     "output_type": "stream",
     "text": [
      "la base ya estaba creada\n",
      "pantalón 15 €\n",
      "camisa 15 €\n",
      "camisa 15 €\n"
     ]
    }
   ],
   "source": [
    "# READ\n",
    "\n",
    "import sqlite3 as sq\n",
    "\n",
    "miConexion = sq.connect(\"Recursos/GestionProductos2.sqlite\")\n",
    "miCursor = miConexion.cursor()\n",
    "\n",
    "try:\n",
    "    miCursor.execute('''\n",
    "        CREATE TABLE PRODUCTOS (\n",
    "        ID INTEGER PRIMARY KEY AUTOINCREMENT,\n",
    "        NOMBRE_ARTICULO VARCHAR(50) UNIQUE,\n",
    "        PRECIO INTEGER,\n",
    "        SECCION VARCHAR(20))\n",
    "    ''') \n",
    "except sq.OperationalError:\n",
    "    print(\"la base ya estaba creada\")\n",
    "\n",
    "\n",
    "\n",
    "miCursor.execute(\"SELECT * FROM PRODUCTOS WHERE SECCION = 'confección'\") \n",
    "\n",
    "productos = miCursor.fetchall()\n",
    "\n",
    "\n",
    "for i in productos:\n",
    "    print (i[1], i[2], \"€\")\n",
    "\n",
    "miConexion.commit()\n",
    "miConexion.close()"
   ]
  },
  {
   "cell_type": "code",
   "execution_count": 15,
   "metadata": {},
   "outputs": [
    {
     "name": "stdout",
     "output_type": "stream",
     "text": [
      "pelota 35 €\n"
     ]
    }
   ],
   "source": [
    "# UPDATE\n",
    "\n",
    "import sqlite3 as sq\n",
    "\n",
    "miConexion = sq.connect(\"Recursos/GestionProductos2.sqlite\")\n",
    "miCursor = miConexion.cursor()\n",
    "\n",
    "miCursor.execute(\"UPDATE PRODUCTOS SET PRECIO = 35 WHERE NOMBRE_ARTICULO = 'pelota'\") # asignamos el precio de '35' al artículo 'pelota'\n",
    "\n",
    "miCursor.execute(\"SELECT * FROM PRODUCTOS WHERE NOMBRE_ARTICULO = 'pelota'\") \n",
    "productos = miCursor.fetchall()\n",
    "for i in productos:\n",
    "    print (i[1], i[2], \"€\")\n",
    "\n",
    "miConexion.commit()\n",
    "miConexion.close()"
   ]
  },
  {
   "cell_type": "code",
   "execution_count": 14,
   "metadata": {},
   "outputs": [
    {
     "name": "stdout",
     "output_type": "stream",
     "text": [
      "1 pelota\n",
      "2 pantalón\n",
      "3 destornillador\n",
      "4 jarón\n",
      "5 castillo\n",
      "6 camisa\n",
      "7 tornillos\n",
      "8 tazas\n"
     ]
    }
   ],
   "source": [
    "# DELETE\n",
    "\n",
    "import sqlite3 as sq\n",
    "\n",
    "miConexion = sq.connect(\"Recursos/GestionProductos2.sqlite\")\n",
    "miCursor = miConexion.cursor()\n",
    "\n",
    "miCursor.execute(\"DELETE FROM PRODUCTOS WHERE ID = 9\") # eliminamos el artículo con ID 9\n",
    "\n",
    "miCursor.execute(\"SELECT * FROM PRODUCTOS\")\n",
    "productos = miCursor.fetchall()\n",
    "for i in productos:\n",
    "    print(i[0], i[1])\n",
    "\n",
    "miConexion.commit()\n",
    "miConexion.close()"
   ]
  }
 ],
 "metadata": {
  "kernelspec": {
   "display_name": "Python 3.10.6 64-bit",
   "language": "python",
   "name": "python3"
  },
  "language_info": {
   "codemirror_mode": {
    "name": "ipython",
    "version": 3
   },
   "file_extension": ".py",
   "mimetype": "text/x-python",
   "name": "python",
   "nbconvert_exporter": "python",
   "pygments_lexer": "ipython3",
   "version": "3.10.6"
  },
  "orig_nbformat": 4,
  "vscode": {
   "interpreter": {
    "hash": "916dbcbb3f70747c44a77c7bcd40155683ae19c65e1c03b4aa3499c5328201f1"
   }
  }
 },
 "nbformat": 4,
 "nbformat_minor": 2
}
