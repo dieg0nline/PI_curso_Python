{
 "cells": [
  {
   "cell_type": "markdown",
   "metadata": {},
   "source": [
    "# [37. Archivos Externos I](https://youtu.be/V87m9SltcI8)\n",
    "\n",
    "Uno de los obejtivos de trabajar con archivos de texto es la **persistencia de datos**, para lo cual veremos dos alternativas:\n",
    "+ Manejo de archivos externos\n",
    "+ Trabajo con BBDD\n",
    "\n"
   ]
  },
  {
   "cell_type": "markdown",
   "metadata": {},
   "source": [
    "## El métido **open**\n",
    "Nos pide 2 parámetros\n",
    "1. Nombre del archivo\n",
    "2. El modo en el que lo vamos abrir\n",
    "    + Lectura. Para únicamente leer la información (r)\n",
    "    + Escritura. Para agregar información a un nuevo archivo (w)\n",
    "    + Inserción. Para agregar información en un archivo existente (a)\n",
    "    + Cierre. Una vez terminado de manipular el archivo"
   ]
  },
  {
   "cell_type": "code",
   "execution_count": 6,
   "metadata": {},
   "outputs": [],
   "source": [
    "# Cargamos el método open del módulo io\n",
    "from io import open\n",
    "\n",
    "# Creamos un nuevo arhcivo en modo escritura\n",
    "archivo_texto = open(\"Recursos/archivo.txt\",\"w\")\n",
    "\n",
    "# Creamos una variable con un texto\n",
    "frase = \"Aprendiendo a trabajar con Python\\nTrabajando con el módulo 'io' para manejar archivos\\nFin del texto de prueba\\n\"\n",
    "\n",
    "# Introducimos el texto de la variable en el archivo\n",
    "archivo_texto.write(frase)\n",
    "\n",
    "# Cerramos el archivo\n",
    "archivo_texto.close()\n"
   ]
  },
  {
   "cell_type": "code",
   "execution_count": 7,
   "metadata": {},
   "outputs": [],
   "source": [
    "# Volvemos a cargar el archivo, esta vez en modo inserción, para añadir nueva información a la ya existente\n",
    "from io import open\n",
    "\n",
    "archivo_texto = open(\"Recursos/archivo.txt\", \"a\")\n",
    "frase2 = \"\\nEn una segunda instancia volvemos a abrir el archivo para añadir nuevo texto al ya existente\"\n",
    "archivo_texto.write(frase2)\n",
    "archivo_texto.close()"
   ]
  },
  {
   "cell_type": "code",
   "execution_count": 8,
   "metadata": {},
   "outputs": [
    {
     "name": "stdout",
     "output_type": "stream",
     "text": [
      "Aprendiendo a trabajar con Python\n",
      "Trabajando con el módulo 'io' para manejar archivos\n",
      "Fin del texto de prueba\n",
      "\n",
      "En una segunda instancia volvemos a abrir el archivo para añadir nuevo texto al ya existente\n"
     ]
    }
   ],
   "source": [
    "# Ahora leemos la información que hay en el archivo\n",
    "from io import open\n",
    "\n",
    "archivo_texto = open(\"Recursos/archivo.txt\", \"r\") # cargamos archivo en modo lectura\n",
    "texto=archivo_texto.read() # guardamos en la variable 'texto' la información alamacenada en el archivo\n",
    "archivo_texto.close() # cerramos el archivo\n",
    "\n",
    "# Una vez cerrado el archivo, y manteniendo la información almacenada en una variable, imprimios en consola dicha información\n",
    "print(texto)\n"
   ]
  },
  {
   "cell_type": "markdown",
   "metadata": {},
   "source": [
    "Hemos utilizado el método **read** para leer la información almacenada en el archivo. Pero también podemos usar el método **readlines**, el cual también lee la información almacenada en el archivo pero línea a línea, guardadolas en una lista, lo cual nos facilitará la manipulación de dicha información."
   ]
  },
  {
   "cell_type": "code",
   "execution_count": 10,
   "metadata": {},
   "outputs": [
    {
     "name": "stdout",
     "output_type": "stream",
     "text": [
      "['Aprendiendo a trabajar con Python\\n', \"Trabajando con el módulo 'io' para manejar archivos\\n\", 'Fin del texto de prueba\\n', '\\n', 'En una segunda instancia volvemos a abrir el archivo para añadir nuevo texto al ya existente']\n",
      "-----------\n",
      "En una segunda instancia volvemos a abrir el archivo para añadir nuevo texto al ya existente\n"
     ]
    }
   ],
   "source": [
    "from io import open\n",
    "\n",
    "archivo_texto = open(\"Recursos/archivo.txt\", \"r\")\n",
    "lineas_texto = archivo_texto.readlines()\n",
    "archivo_texto.close()\n",
    "\n",
    "# Ahora hemos cargado en la variable 'lineas_texto' la información del archivo pero almacenada en una lista. Procedemos a imprimirla y nos aparece como lista\n",
    "print(lineas_texto)\n",
    "\n",
    "# Y al tratarse de elementos de una lista podemos acceder a ellos pudiendo especificar a que elemento o elementos concretos queremos acceder\n",
    "print(\"-----------\",) # añadimos un separador para facilitar la lectura del ejercicio\n",
    "print((lineas_texto[4])) # accedemos al último registro de la lista, la última línea de texto"
   ]
  }
 ],
 "metadata": {
  "kernelspec": {
   "display_name": "Python 3.10.6 64-bit",
   "language": "python",
   "name": "python3"
  },
  "language_info": {
   "codemirror_mode": {
    "name": "ipython",
    "version": 3
   },
   "file_extension": ".py",
   "mimetype": "text/x-python",
   "name": "python",
   "nbconvert_exporter": "python",
   "pygments_lexer": "ipython3",
   "version": "3.10.6"
  },
  "orig_nbformat": 4,
  "vscode": {
   "interpreter": {
    "hash": "916dbcbb3f70747c44a77c7bcd40155683ae19c65e1c03b4aa3499c5328201f1"
   }
  }
 },
 "nbformat": 4,
 "nbformat_minor": 2
}
