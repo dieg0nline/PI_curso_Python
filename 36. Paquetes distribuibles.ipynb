{
 "cells": [
  {
   "cell_type": "markdown",
   "metadata": {},
   "source": [
    "# [Paquetes distribuibles y reutilizables](https://youtu.be/Zf9sN-w0BVE)\n",
    "Instalamos un paquete en python en el SO para que pueda acceder a él desde cualquier ubicación\n",
    "1. Creamos en la carpeta del proyecto un archivo llamado stup.py que contendrá una descripción del paquete que vamos a distribuir. Con información sobre el nombre del mismo, la versión, autor y demás información."
   ]
  },
  {
   "cell_type": "code",
   "execution_count": null,
   "metadata": {},
   "outputs": [],
   "source": [
    "# contenido del archivo setup.py\n",
    "\n",
    "from setuptools import setup\n",
    "\n",
    "setup (\n",
    "    name = \"paquete_calcalculos\",\n",
    "    version = \"1.0\",\n",
    "    description = \"breve explicación de las funciones del paquete\",\n",
    "    author= \"nombre del autor\",\n",
    "    packages=[\"calculos\",\"calculos.calculos_generales\"], # ruta donde se encuentra el paquete que queremos distribuir\n",
    "    # resto de datos no obligatorios\n",
    "    author_email= \"correo del autor\",\n",
    "    url=\"web de referencia\"\n",
    ")"
   ]
  },
  {
   "cell_type": "markdown",
   "metadata": {},
   "source": [
    "2. Una vez creado el archivo setup.py vamos desde consola a la carpeta donde se encuentra y ejecutamos la siguiente orden para crear el paquete:\n",
    "~~~\n",
    "python setup.py sdit\n",
    "~~~\n",
    "3. Hecho esto nos habrá creado dos nuevas carpetas una con el nombre paquete_NombreDelPaquete.egg-info y otra llamada **dist** en la que se encuentra el archivo comprimido .tar.gz que contiene el paquete a instalar o distribuir\n",
    "4. Para instalar dicho paquete acedemos por consola a la carpeta donde se encuentra el mismo y ejecutamos la orden:\n",
    "~~~\n",
    "pip3 install nombre_del_paquete.extensión\n",
    "~~~\n",
    "5. Para desisntarlar un paquete volvemos a consola y, desde cualquier ubicación, ejecutamos:\n",
    "~~~\n",
    "pip3 unistall nombre_del_paquete.extenión\n",
    "~~~\n"
   ]
  }
 ],
 "metadata": {
  "kernelspec": {
   "display_name": "Python 3.10.6 64-bit",
   "language": "python",
   "name": "python3"
  },
  "language_info": {
   "name": "python",
   "version": "3.10.6"
  },
  "orig_nbformat": 4,
  "vscode": {
   "interpreter": {
    "hash": "916dbcbb3f70747c44a77c7bcd40155683ae19c65e1c03b4aa3499c5328201f1"
   }
  }
 },
 "nbformat": 4,
 "nbformat_minor": 2
}
