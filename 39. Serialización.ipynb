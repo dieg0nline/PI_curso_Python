{
 "cells": [
  {
   "cell_type": "markdown",
   "metadata": {},
   "source": [
    "# [39. Serialización](https://youtu.be/SOimkkfQIOM)\n",
    "\n",
    "La serialización consiste en guardar en un fichero externo, colecciones, diccionarios u objetos, codificados en código binario.\n",
    "\n",
    "Para ello usaremos la bibliotecla ***Pickle*** con sus métodos:\n",
    "+ dump(): para volcado de datos al fichero binario externo\n",
    "+ load(): para cargar los datos del fichero binario externo\n",
    "\n",
    "\n",
    "[Documentación](https://programacion.net/articulo/los_pickles_de_python_1860)"
   ]
  },
  {
   "cell_type": "code",
   "execution_count": 2,
   "metadata": {},
   "outputs": [],
   "source": [
    "import pickle # importamos libería\n",
    "\n",
    "lista_nombres = [\"Pedro\", \"Ana\", \"María\", \"Isabel\"] # iniciamos variable con una lista de datos para cargar en el fichero \n",
    "\n",
    "fichero_binario = open(\"recursos/lista_nombres\", \"wb\") # creamos el fichero\n",
    "\n",
    "pickle.dump(lista_nombres, fichero_binario) # indicamos a picke que introduzca los datos de la variable en el fichero creado\n",
    "\n",
    "fichero_binario.close() # cerramos el fichero creado\n",
    "\n",
    "del (fichero_binario) # borramos de memoria los datos del fichero"
   ]
  }
 ],
 "metadata": {
  "kernelspec": {
   "display_name": "Python 3.10.6 64-bit",
   "language": "python",
   "name": "python3"
  },
  "language_info": {
   "codemirror_mode": {
    "name": "ipython",
    "version": 3
   },
   "file_extension": ".py",
   "mimetype": "text/x-python",
   "name": "python",
   "nbconvert_exporter": "python",
   "pygments_lexer": "ipython3",
   "version": "3.10.6"
  },
  "orig_nbformat": 4,
  "vscode": {
   "interpreter": {
    "hash": "916dbcbb3f70747c44a77c7bcd40155683ae19c65e1c03b4aa3499c5328201f1"
   }
  }
 },
 "nbformat": 4,
 "nbformat_minor": 2
}
