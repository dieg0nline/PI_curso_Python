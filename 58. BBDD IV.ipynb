{
 "cells": [
  {
   "cell_type": "markdown",
   "metadata": {},
   "source": [
    "## [58. BBDD IV](https://youtu.be/m_FzVf9JTV8)\n",
    "+ Cláusula UNIQUE\n",
    "+ Operaciones CRUD"
   ]
  },
  {
   "cell_type": "code",
   "execution_count": null,
   "metadata": {},
   "outputs": [],
   "source": [
    "import sqlite3 as sq\n",
    "\n",
    "miConexion = sq.connect(\"Recursos/GestionProductos2.sqlite\")\n",
    "miCursor = miConexion.cursor()\n",
    "\n",
    "try:\n",
    "    # usamos la cláusula UNIQUE en NOMBRE_ARTICULO para que no permita crear duplicados\n",
    "    miCursor.execute('''\n",
    "        CREATE TABLE PRODUCTOS (\n",
    "        ID INTEGER PRIMARY KEY AUTOINCREMENT,\n",
    "        NOMBRE_ARTICULO VARCHAR(50) UNIQUE,\n",
    "        PRECIO INTEGER,\n",
    "        SECCION VARCHAR(20))\n",
    "    ''') \n",
    "except sq.OperationalError:\n",
    "    print(\"la base ya estaba creada\")\n",
    "\n",
    "productos = [\n",
    "    (\"castillo\", 20, \"jugetería\"),\n",
    "    (\"camisa\", 15, \"confección\"),\n",
    "    (\"tornillos\", 25, \"ferretería\"),\n",
    "    (\"tazas\", 45, \"cerámica\")\n",
    "]\n",
    "\n",
    "miCursor.executemany(\"INSERT INTO PRODUCTOS VALUES (NULL,?,?,?)\", productos) \n",
    "\n",
    "miConexion.commit()\n",
    "miConexion.close()\n",
    "\n",
    "# continuar la clase https://youtu.be/m_FzVf9JTV8?t=318"
   ]
  }
 ],
 "metadata": {
  "kernelspec": {
   "display_name": "Python 3.10.8 64-bit (microsoft store)",
   "language": "python",
   "name": "python3"
  },
  "language_info": {
   "name": "python",
   "version": "3.10.8"
  },
  "orig_nbformat": 4,
  "vscode": {
   "interpreter": {
    "hash": "139870558da746b474c610a7358cf235cfa6f6bebbad7e598af6a1d3319ead65"
   }
  }
 },
 "nbformat": 4,
 "nbformat_minor": 2
}
