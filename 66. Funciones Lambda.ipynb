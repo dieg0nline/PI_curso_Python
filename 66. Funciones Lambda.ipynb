{
 "cells": [
  {
   "attachments": {},
   "cell_type": "markdown",
   "metadata": {},
   "source": [
    "## [66. Funciones Lambda](https://youtu.be/tfYLcHbjc_A)"
   ]
  },
  {
   "cell_type": "code",
   "execution_count": 1,
   "metadata": {},
   "outputs": [
    {
     "name": "stdout",
     "output_type": "stream",
     "text": [
      "17.5\n",
      "27.0\n"
     ]
    }
   ],
   "source": [
    "# sintaxis tradicional\n",
    "\n",
    "def area_triangulo(base, altura):\n",
    "    return(base*altura)/2\n",
    "\n",
    "triangulo1 = area_triangulo(5,7)\n",
    "triangulo2 = area_triangulo(9,6)\n",
    "\n",
    "print(triangulo1)\n",
    "print(triangulo2)"
   ]
  },
  {
   "cell_type": "code",
   "execution_count": 2,
   "metadata": {},
   "outputs": [
    {
     "name": "stdout",
     "output_type": "stream",
     "text": [
      "17.5\n",
      "27.0\n"
     ]
    }
   ],
   "source": [
    "# función lambda\n",
    "\n",
    "area_triangulo2 = lambda base2, altura2: (base2*altura2)/2\n",
    "\n",
    "triangulo3 = area_triangulo2(5,7)\n",
    "triangulo4 = area_triangulo2(9,6)\n",
    "\n",
    "print(triangulo3)\n",
    "print(triangulo4)"
   ]
  },
  {
   "cell_type": "code",
   "execution_count": 4,
   "metadata": {},
   "outputs": [
    {
     "name": "stdout",
     "output_type": "stream",
     "text": [
      "15585\n",
      "¡15585! €\n"
     ]
    }
   ],
   "source": [
    "destacar_valor = lambda comision: \"¡{}! €\".format(comision)\n",
    "\n",
    "comision_Ana = 15585\n",
    "\n",
    "print(comision_Ana)\n",
    "print(destacar_valor(comision_Ana))"
   ]
  }
 ],
 "metadata": {
  "kernelspec": {
   "display_name": "Python 3",
   "language": "python",
   "name": "python3"
  },
  "language_info": {
   "codemirror_mode": {
    "name": "ipython",
    "version": 3
   },
   "file_extension": ".py",
   "mimetype": "text/x-python",
   "name": "python",
   "nbconvert_exporter": "python",
   "pygments_lexer": "ipython3",
   "version": "3.10.6"
  },
  "orig_nbformat": 4,
  "vscode": {
   "interpreter": {
    "hash": "916dbcbb3f70747c44a77c7bcd40155683ae19c65e1c03b4aa3499c5328201f1"
   }
  }
 },
 "nbformat": 4,
 "nbformat_minor": 2
}
