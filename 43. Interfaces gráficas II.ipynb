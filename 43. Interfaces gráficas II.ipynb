{
 "cells": [
  {
   "cell_type": "markdown",
   "metadata": {},
   "source": [
    "## [43. Interfaces gráficas II](https://youtu.be/M80CzDC1Crc)\n",
    "\n"
   ]
  },
  {
   "cell_type": "code",
   "execution_count": 29,
   "metadata": {},
   "outputs": [],
   "source": [
    "from tkinter import *\n",
    "\n",
    "raiz = Tk()\n",
    "raiz.title(\"Ventana de pruebas\")\n",
    "# raiz.resizable(True,False)\n",
    "# raiz.geometry(\"650x350\")\n",
    "raiz.config(bg=\"yellow\")\n",
    "\n",
    "miFrame = Frame() # creamos un nuevo frame\n",
    "miFrame.pack() # lo empaquetamos dentro de la raiz\n",
    "miFrame.config(bg=\"grey\")\n",
    "miFrame.config(width=\"650\", height=\"350\")\n",
    "miFrame.config(cursor=\"pirate\")\n",
    "\n",
    "miFrame2 = Frame() # creamos un nuevo frame\n",
    "miFrame2.pack() # lo empaquetamos dentro de la raiz\n",
    "miFrame2.config(bg=\"darkblue\")\n",
    "miFrame2.config(width=\"650\", height=\"350\")\n",
    "miFrame2.config(cursor=(\"hand2\"))\n",
    "\n",
    "raiz.mainloop()"
   ]
  }
 ],
 "metadata": {
  "kernelspec": {
   "display_name": "Python 3.10.6 64-bit",
   "language": "python",
   "name": "python3"
  },
  "language_info": {
   "codemirror_mode": {
    "name": "ipython",
    "version": 3
   },
   "file_extension": ".py",
   "mimetype": "text/x-python",
   "name": "python",
   "nbconvert_exporter": "python",
   "pygments_lexer": "ipython3",
   "version": "3.10.6"
  },
  "orig_nbformat": 4,
  "vscode": {
   "interpreter": {
    "hash": "916dbcbb3f70747c44a77c7bcd40155683ae19c65e1c03b4aa3499c5328201f1"
   }
  }
 },
 "nbformat": 4,
 "nbformat_minor": 2
}
