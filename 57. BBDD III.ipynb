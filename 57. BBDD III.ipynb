{
 "cells": [
  {
   "cell_type": "markdown",
   "metadata": {},
   "source": [
    "## [57. BBDD III](https://youtu.be/HVd6mPiD3pc)\n",
    "\n",
    "Claves principales"
   ]
  },
  {
   "cell_type": "code",
   "execution_count": null,
   "metadata": {},
   "outputs": [],
   "source": [
    "import sqlite3 as sq\n",
    "\n",
    "miConexion = sq.connect(\"Recursos/GestionProductos.sqlite\")\n",
    "miCursor = miConexion.cursor()\n",
    "\n",
    "miCursor.execute('''\n",
    "    CREATE TABLE PRODUCTOS (\n",
    "    CODIGO_ARTICULO VARCHAR(4) PRIMARY KEY,\n",
    "    NOMBRE_ARTICULO VARCHAR(50),\n",
    "    PRECIO INTEGER,\n",
    "    SECCION VARCHAR(20))\n",
    "''') # usar las 3 comillas nos permite escribir el código en varias líneas\n",
    "\n",
    "productos = [\n",
    "    (\"AR01\", \"pelota\", 20, \"jugetería\"),\n",
    "    (\"AR02\", \"pantalón\", 15, \"confección\"),\n",
    "    (\"AR03\", \"destornillador\", 25, \"ferretería\"),\n",
    "    (\"AR04\", \"jarón\", 45, \"cerámica\")\n",
    "]\n",
    "\n",
    "miCursor.executemany(\"INSERT INTO PRODUCTOS VALUES (?,?,?,?)\", productos)\n",
    "\n",
    "miConexion.commit()\n",
    "miConexion.close()"
   ]
  },
  {
   "cell_type": "code",
   "execution_count": null,
   "metadata": {},
   "outputs": [],
   "source": [
    "import sqlite3 as sq\n",
    "\n",
    "miConexion = sq.connect(\"Recursos/GestionProductos.sqlite\")\n",
    "miCursor = miConexion.cursor()\n",
    "\n",
    "miCursor.execute(\"INSERT INTO PRODUCTOS VALUES ('AR05', 'tren', 15, 'juguetería')\") # añadimos nuevo producto con nuevo CODIGO_ARTICULO sin problema\n",
    "\n",
    "miConexion.commit()\n",
    "miConexion.close()"
   ]
  },
  {
   "cell_type": "code",
   "execution_count": null,
   "metadata": {},
   "outputs": [],
   "source": [
    "import sqlite3 as sq\n",
    "\n",
    "miConexion = sq.connect(\"Recursos/GestionProductos.sqlite\")\n",
    "miCursor = miConexion.cursor()\n",
    "\n",
    "miCursor.execute(\"INSERT INTO PRODUCTOS VALUES ('AR03', 'avión', 15, 'juguetería')\") # añadimos un nuevo producto con un CODIGO_ARTICULO ya existente y comprobamos que da error\n",
    "\n",
    "miConexion.commit()\n",
    "miConexion.close()"
   ]
  },
  {
   "cell_type": "markdown",
   "metadata": {},
   "source": [
    "Para evitar errores de duplicados con las llaves primárias, y ahorrarnos el trabajo de ir asignándolas se debe indicar al campo que las genere automáticamente: *PRIMARI KEY AUTOINCREMENT*"
   ]
  },
  {
   "cell_type": "code",
   "execution_count": 10,
   "metadata": {},
   "outputs": [
    {
     "name": "stdout",
     "output_type": "stream",
     "text": [
      "la base ya estaba creada\n"
     ]
    }
   ],
   "source": [
    "import sqlite3 as sq\n",
    "\n",
    "miConexion = sq.connect(\"Recursos/GestionProductos2.sqlite\")\n",
    "miCursor = miConexion.cursor()\n",
    "\n",
    "try: # para practicar excepciones meto una, para este ejercicio a la hora de repetir el código y la base ya está creada, pues las siguientes ejecuciones dará error al intentar crearla de nuevo\n",
    "    miCursor.execute('''\n",
    "        CREATE TABLE PRODUCTOS (\n",
    "        ID INTEGER PRIMARY KEY AUTOINCREMENT,\n",
    "        NOMBRE_ARTICULO VARCHAR(50),\n",
    "        PRECIO INTEGER,\n",
    "        SECCION VARCHAR(20))\n",
    "    ''') # usar las 3 comillas nos permite escribir el código en varias líneas\n",
    "except sq.OperationalError:\n",
    "    print(\"la base ya estaba creada\")\n",
    "\n",
    "# al tratarse el primer campo ID un autoincrementable se genera automáticamente, por lo que no es necesario pasar el dato\n",
    "productos = [\n",
    "    (\"castillo\", 20, \"jugetería\"),\n",
    "    (\"camisa\", 15, \"confección\"),\n",
    "    (\"tornillos\", 25, \"ferretería\"),\n",
    "    (\"tazas\", 45, \"cerámica\")\n",
    "]\n",
    "\n",
    "miCursor.executemany(\"INSERT INTO PRODUCTOS VALUES (NULL,?,?,?)\", productos) # indicamos un NULL en el campo en el que se generará automaticamente la clave\n",
    "\n",
    "miConexion.commit()\n",
    "miConexion.close()"
   ]
  }
 ],
 "metadata": {
  "kernelspec": {
   "display_name": "Python 3.10.6 64-bit",
   "language": "python",
   "name": "python3"
  },
  "language_info": {
   "codemirror_mode": {
    "name": "ipython",
    "version": 3
   },
   "file_extension": ".py",
   "mimetype": "text/x-python",
   "name": "python",
   "nbconvert_exporter": "python",
   "pygments_lexer": "ipython3",
   "version": "3.10.6"
  },
  "orig_nbformat": 4,
  "vscode": {
   "interpreter": {
    "hash": "916dbcbb3f70747c44a77c7bcd40155683ae19c65e1c03b4aa3499c5328201f1"
   }
  }
 },
 "nbformat": 4,
 "nbformat_minor": 2
}
