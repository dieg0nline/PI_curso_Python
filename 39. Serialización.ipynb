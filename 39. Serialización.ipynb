{
 "cells": [
  {
   "cell_type": "markdown",
   "metadata": {},
   "source": [
    "# [39. Serialización](https://youtu.be/SOimkkfQIOM)\n",
    "\n",
    "La serialización consiste en guardar en un fichero externo, colecciones, diccionarios u objetos, codificados en código binario.\n",
    "\n",
    "Para ello usaremos la bibliotecla ***Pickle*** con sus métodos:\n",
    "+ dump(): para volcado de datos al fichero binario externo\n",
    "+ load(): para cargar los datos del fichero binario externo\n",
    "\n",
    "\n",
    "[Documentación](https://programacion.net/articulo/los_pickles_de_python_1860)"
   ]
  },
  {
   "cell_type": "code",
   "execution_count": 2,
   "metadata": {},
   "outputs": [],
   "source": [
    "# ejercicio de la clase\n",
    "\n",
    "import pickle\n",
    "\n",
    "lista_nombres = [\"Pedro\", \"Ana\", \"María\", \"Isabel\"]\n",
    "\n",
    "fichero_binario = open(\"calculos/lista_nombres\", \"wb\")\n",
    "\n",
    "pickle.dump(lista_nombres, fichero_binario)\n",
    "\n",
    "fichero_binario.close()\n",
    "\n",
    "del (fichero_binario)"
   ]
  }
 ],
 "metadata": {
  "kernelspec": {
   "display_name": "Python 3.10.8 64-bit (microsoft store)",
   "language": "python",
   "name": "python3"
  },
  "language_info": {
   "codemirror_mode": {
    "name": "ipython",
    "version": 3
   },
   "file_extension": ".py",
   "mimetype": "text/x-python",
   "name": "python",
   "nbconvert_exporter": "python",
   "pygments_lexer": "ipython3",
   "version": "3.10.8"
  },
  "orig_nbformat": 4,
  "vscode": {
   "interpreter": {
    "hash": "139870558da746b474c610a7358cf235cfa6f6bebbad7e598af6a1d3319ead65"
   }
  }
 },
 "nbformat": 4,
 "nbformat_minor": 2
}
